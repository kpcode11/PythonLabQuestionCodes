{
 "cells": [
  {
   "cell_type": "code",
   "execution_count": null,
   "id": "76ce07c6",
   "metadata": {},
   "outputs": [],
   "source": [
    "# EDA Project - Engineering Colleges Dataset\n",
    "\n",
    "import pandas as pd\n",
    "import matplotlib.pyplot as plt\n",
    "import seaborn as sns\n",
    "\n",
    "# Load the dataset\n",
    "df = pd.read_csv(\"engineering colleges in India.csv\")\n",
    "df.head()"
   ]
  },
  {
   "cell_type": "code",
   "execution_count": null,
   "id": "b22a011b",
   "metadata": {},
   "outputs": [],
   "source": [
    "# Display top 5 and last 5 rows\n",
    "display(df.head())\n",
    "display(df.tail())"
   ]
  },
  {
   "cell_type": "code",
   "execution_count": null,
   "id": "5f879075",
   "metadata": {},
   "outputs": [],
   "source": [
    "# Count of independent and dependent variables\n",
    "dependent_var = 'Rating'\n",
    "independent_vars = [col for col in df.columns if col != dependent_var]\n",
    "print(\"Number of Independent Variables:\", len(independent_vars))\n",
    "print(\"Number of Dependent Variables:\", 1)"
   ]
  },
  {
   "cell_type": "code",
   "execution_count": null,
   "id": "4d16f760",
   "metadata": {},
   "outputs": [],
   "source": [
    "# Descriptive statistics\n",
    "display(df.describe(include='all'))"
   ]
  },
  {
   "cell_type": "code",
   "execution_count": null,
   "id": "8793dc39",
   "metadata": {},
   "outputs": [],
   "source": [
    "# Convert numeric columns to numeric dtype\n",
    "numeric_cols = ['Total Student Enrollments', 'Total Faculty', 'Established Year', 'Average Fees']\n",
    "for col in numeric_cols:\n",
    "    df[col] = pd.to_numeric(df[col], errors='coerce')\n",
    "\n",
    "# Independent variable with minimum average\n",
    "avg_values = df[numeric_cols].mean()\n",
    "print(\"Independent Variable with Minimum Average Value:\", avg_values.idxmin())\n",
    "\n",
    "# Independent variable with highest standard deviation\n",
    "std_values = df[numeric_cols].std()\n",
    "print(\"Independent Variable with Highest Standard Deviation:\", std_values.idxmax())"
   ]
  },
  {
   "cell_type": "code",
   "execution_count": null,
   "id": "369fab30",
   "metadata": {},
   "outputs": [],
   "source": [
    "# Total count of missing values in each column\n",
    "missing_counts = df[independent_vars].isnull().sum()\n",
    "print(\"\\nMissing Values in Independent Variables:\\n\", missing_counts)"
   ]
  },
  {
   "cell_type": "code",
   "execution_count": null,
   "id": "5dc6f155",
   "metadata": {},
   "outputs": [],
   "source": [
    "# Visualize missing values\n",
    "plt.figure(figsize=(10,6))\n",
    "sns.heatmap(df[independent_vars].isnull(), cbar=False, yticklabels=False, cmap='viridis')\n",
    "plt.title(\"Missing Values Heatmap\")\n",
    "plt.show()"
   ]
  },
  {
   "cell_type": "code",
   "execution_count": null,
   "id": "c4ba8554",
   "metadata": {},
   "outputs": [],
   "source": [
    "# Variable with max missing values\n",
    "print(\"Independent Variable with Maximum Missing Values:\", missing_counts.idxmax())"
   ]
  },
  {
   "cell_type": "code",
   "execution_count": null,
   "id": "de6e32c5",
   "metadata": {},
   "outputs": [],
   "source": [
    "# Replace missing values in a numeric independent variable with average (e.g. 'Average Fees')\n",
    "df['Average Fees'] = df['Average Fees'].fillna(df['Average Fees'].mean())"
   ]
  },
  {
   "cell_type": "code",
   "execution_count": null,
   "id": "66aed4e8",
   "metadata": {},
   "outputs": [],
   "source": [
    "# Histogram of an independent variable (e.g. 'Established Year')\n",
    "plt.figure(figsize=(8,5))\n",
    "df['Established Year'].dropna().astype(int).hist(bins=30)\n",
    "plt.title(\"Frequency Distribution of Established Year\")\n",
    "plt.xlabel(\"Year\")\n",
    "plt.ylabel(\"Frequency\")\n",
    "plt.show()"
   ]
  },
  {
   "cell_type": "code",
   "execution_count": null,
   "id": "75199f39",
   "metadata": {},
   "outputs": [],
   "source": [
    "# Box-plot to identify outliers (e.g. 'Average Fees')\n",
    "plt.figure(figsize=(8,5))\n",
    "sns.boxplot(data=df, x='Average Fees')\n",
    "plt.title(\"Boxplot for Average Fees\")\n",
    "plt.show()"
   ]
  },
  {
   "cell_type": "code",
   "execution_count": null,
   "id": "3aa0500c",
   "metadata": {},
   "outputs": [],
   "source": [
    "# Line chart for correlation (e.g. between 'Established Year' and 'Average Fees')\n",
    "df_sorted = df.sort_values('Established Year')\n",
    "plt.figure(figsize=(10,6))\n",
    "plt.plot(df_sorted['Established Year'], df_sorted['Average Fees'])\n",
    "plt.title(\"Line Chart: Established Year vs Average Fees\")\n",
    "plt.xlabel(\"Established Year\")\n",
    "plt.ylabel(\"Average Fees\")\n",
    "plt.show()"
   ]
  },
  {
   "cell_type": "code",
   "execution_count": null,
   "id": "2a8fdb1c",
   "metadata": {},
   "outputs": [],
   "source": [
    "# Correlation Matrix\n",
    "correlation_matrix = df[numeric_cols].corr()\n",
    "sns.heatmap(correlation_matrix, annot=True, cmap='coolwarm')\n",
    "plt.title(\"Correlation Matrix\")\n",
    "plt.show()"
   ]
  },
  {
   "cell_type": "code",
   "execution_count": null,
   "id": "a2555bf3",
   "metadata": {},
   "outputs": [],
   "source": [
    "# Scatter plots for two pairs\n",
    "# Assuming high positive correlation: 'Total Faculty' vs 'Total Student Enrollments'\n",
    "sns.scatterplot(data=df, x='Total Faculty', y='Total Student Enrollments')\n",
    "plt.title(\"Scatter Plot - Total Faculty vs Student Enrollments\")\n",
    "plt.show()"
   ]
  },
  {
   "cell_type": "code",
   "execution_count": null,
   "id": "3c3f66fe",
   "metadata": {},
   "outputs": [],
   "source": [
    "# Assuming weak/negative correlation: 'Average Fees' vs 'Rating'\n",
    "sns.scatterplot(data=df, x='Average Fees', y='Rating')\n",
    "plt.title(\"Scatter Plot - Average Fees vs Rating\")\n",
    "plt.show()"
   ]
  }
 ],
 "metadata": {
  "kernelspec": {
   "display_name": "Python 3",
   "language": "python",
   "name": "python3"
  },
  "language_info": {
   "codemirror_mode": {
    "name": "ipython",
    "version": 3
   },
   "file_extension": ".py",
   "mimetype": "text/x-python",
   "name": "python",
   "nbconvert_exporter": "python",
   "pygments_lexer": "ipython3",
   "version": "3.13.3"
  }
 },
 "nbformat": 4,
 "nbformat_minor": 5
}
